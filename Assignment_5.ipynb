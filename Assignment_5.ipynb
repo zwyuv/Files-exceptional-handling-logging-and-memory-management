{
  "nbformat": 4,
  "nbformat_minor": 0,
  "metadata": {
    "colab": {
      "provenance": []
    },
    "kernelspec": {
      "name": "python3",
      "display_name": "Python 3"
    },
    "language_info": {
      "name": "python"
    }
  },
  "cells": [
    {
      "cell_type": "markdown",
      "source": [
        "# **THEORY QUESTIONS**"
      ],
      "metadata": {
        "id": "KPgJlcaStKpI"
      }
    },
    {
      "cell_type": "markdown",
      "source": [
        "**Ques1. What is the difference between interpreted and compiled languages**\n",
        "\n",
        "Ans1. compiled language > Source code is translated entirely into machine code by a compiler before it is run. The resulting machine code is then run directly by the system.Examples: C, C++.\n",
        "\n",
        "interpreted language > Source code is read and executed line-by-line by an interpreter at runtime.No separate machine code file is created; the interpreter runs the code directly.Examples: Python, JavaScript.\n",
        "\n",
        "\n",
        "**Ques2. What is exception handling in Python**\n",
        "\n",
        "Ans2. Exception handling in Python is a way to gracefully handle errors that occur during the execution of a program, so your program doesn't crash unexpectedly.\n",
        "\n",
        "**Ques3.What is the purpose of the finally block in exception handling?**\n",
        "\n",
        "Ans3. The finally block is used to ensure that certain code always runs, no matter what happens — whether an exception was raised or not.\n",
        "~~~\n",
        "try:\n",
        "    x = int(input(\"Enter a number: \"))\n",
        "    y = 10 / x\n",
        "except ValueError:\n",
        "    print(\"Invalid input: not a number.\")\n",
        "finally:\n",
        "print(\"done\")\n",
        "~~~\n",
        "**Ques4. What is logging in Python?**\n",
        "\n",
        "Ans4. Logging in Python is a way to track events that happen while your program runs. It helps you debug, monitor, and understand your program’s behavior without using print statements.Logging is a better alternative to print() for tracking program events\n",
        "~~~\n",
        "import logging\n",
        "logging.basicConfig(filename=\"xyx.txt\",level=logging.INFO)\n",
        "~~~\n",
        "\n",
        "**Ques5. What is the significance of the __del__ method in Python?**\n",
        "\n",
        "Ans5. The __del__  method is a special method in Python called a destructor. It is automatically invoked when an object is about to be destroyed — i.e., when it is garbage collected.\n",
        "\n",
        "**Ques6. What is the difference between import and from ... import in Python?**\n",
        "\n",
        "Ans6. Both import and from ... import are used to bring external modules or functions into your Python script, but they work differently.\n",
        "\n",
        "Use import when you want the whole module and clear, prefixed access.\n",
        "Use from ... import when you only need specific parts and want cleaner code.\n",
        "~~~\n",
        " from abc import abstractclassmethod\n",
        "~~~\n",
        "\n",
        "**Ques7. How can you handle multiple exceptions in Python?**\n",
        "\n",
        "Ans7. In Python, you can handle multiple exceptions using multiple except blocks, or by grouping exceptions in a single block.\n",
        "\n",
        "~~~\n",
        "try:\n",
        "    x = int(input(\"Enter a number: \"))\n",
        "    y = 10 / x\n",
        "except ValueError:\n",
        "    print(\"Invalid input: not a number.\")\n",
        "except ZeroDivisionError:\n",
        "    print(\"You can't divide by zero.\")\n",
        "~~~\n",
        "\n",
        "**Ques8. What is the purpose of the with statement when handling files in Python?**\n",
        "\n",
        "Ans8. The with statement in Python is used to simplify file handling by automatically opening and closing files — even if an error occurs.\n",
        "~~~\n",
        "with open(\"file.txt\",\"w\")as f:\n",
        "   f.write()\n",
        "~~~\n",
        "**Ques9. What is the difference between multithreading and multiprocessing?**\n",
        "\n",
        "Ans9.\n",
        "> multithreading: Runs multiple threads (smaller tasks) within the same process\n",
        "Threads share the same memory space.\n",
        "~~~\n",
        "import threading\n",
        "\n",
        "def task():\n",
        "    print(\"Run\")\n",
        "\n",
        "t = threading.Thread(target=task)\n",
        "t.start()\n",
        "~~~\n",
        "> multiprocessing: Runs multiple processes, each with its own memory\n",
        "Bypasses the GIL, so tasks run in parallel.\n",
        "~~~\n",
        "import multiprocessing\n",
        "\n",
        "def task():\n",
        "    print(\"Run\")\n",
        "\n",
        "p = multiprocessing.Process(target=task)\n",
        "p.start()\n",
        "~~~\n",
        "\n",
        "**Ques10. What are the advantages of using logging in a program?**\n",
        "\n",
        "Ans10.\n",
        "1. Helps Debugging:\n",
        "Logging records detailed information about what the program is doing, making it easier to find and fix problems.\n",
        "\n",
        "2. Keeps a Permanent Record:\n",
        "Logs can be saved to files, so you can review program activity even after it has finished running.\n",
        "\n",
        "3. Provides Different Levels of Messages:\n",
        "You can categorize logs by importance (e.g., INFO, WARNING, ERROR), helping you focus on what matters most.\n",
        "\n",
        "4. Better than Print Statements:\n",
        "Unlike print, logging can be turned on or off and can be configured to output to different places (files, consoles, etc.).\n",
        "\n",
        "**Ques11. What is memory management in Python?**\n",
        "\n",
        "Ans11. Memory management in Python refers to how the language allocates, uses, and frees up memory while your program runs.\n",
        "\n",
        "**Ques12. What are the basic steps involved in exception handling in Python?**\n",
        "\n",
        "Ans12.Exception handling in Python is about managing errors so your program doesn’t crash unexpectedly:\n",
        "\n",
        ">try: Put the code that might cause an error inside a try block.\n",
        "~~~\n",
        "try:\n",
        "  print(10/0)\n",
        "~~~\n",
        ">Catch Exceptions with except: Each except handles a specific type of error\n",
        "~~~\n",
        "except Exception as e:\n",
        "      print(\"error is\",e)\n",
        "~~~\n",
        "> finally: Use finally Block\n",
        "~~~\n",
        "finally:\n",
        "  print(\"this will run the code\")\n",
        "~~~\n",
        "all together:\n",
        "~~~\n",
        "try:\n",
        "  print(10/0)\n",
        "except ZeroDivisionError as e:\n",
        "  print(\"error is:\",e)\n",
        "finally:\n",
        "  print(\"this will run the code\")\n",
        "~~~\n",
        "\n",
        "**Ques13. Why is memory management important in Python?**\n",
        "\n",
        "Ans13. Memory management is important in Python because it helps ensure that your programs run efficiently and reliably.Memory management in Python is crucial because it keeps your program fast, stable, and resource-friendly by automatically managing how memory is used and freed.\n",
        "\n",
        "**Ques14. What is the role of try and except in exception handling?**\n",
        "\n",
        "Ans14.\n",
        ">try: Put the code that might cause an error inside a try block.\n",
        ">Catch Exceptions with except: Each except handles a specific type of error\n",
        "~~~\n",
        "try:\n",
        "  print(10/0)\n",
        "except ZeroDivisionError as e:\n",
        "  print(\"error is:\",e)\n",
        "finally:\n",
        "  print(\"this will run the code\")\n",
        "~~~\n",
        "\n",
        "**Ques15. How does Python's garbage collection system work?**\n",
        "\n",
        "Ans15. Python’s garbage collection (GC) system automatically manages memory by removing objects that are no longer needed so that memory can be reused.\n",
        "\n",
        "**Ques16. What is the purpose of the else block in exception handling?**\n",
        "\n",
        "Ans16. The else block in Python exception handling is used to run code only if no exceptions were raised in the try block.\n",
        "~~~\n",
        "try:\n",
        "    result = 10 / 2\n",
        "except ZeroDivisionError:\n",
        "    print(\"Cannot divide by zero.\")\n",
        "else:\n",
        "    print(\"Division successful! Result is\", result)\n",
        "~~~\n",
        "\n",
        "**Ques17. What are the common logging levels in Python?**\n",
        "\n",
        "Ans17.Python’s logging module provides different logging levels to indicate the\n",
        "mportance of messages.\n",
        "\n",
        "> DEBUG: For detailed troubleshooting info\n",
        "\n",
        ">INFO: General operational messages\n",
        "\n",
        ">WARNING: Alerts about potential issues\n",
        "\n",
        ">ERROR: Serious problems that affect functionality\n",
        "\n",
        ">CRITICAL: Very severe errors causing program failure\n",
        "\n",
        "**Que18. What is the difference between os.fork() and multiprocessing in Python**\n",
        "\n",
        "Ans18.\n",
        "> os.fork():A low-level function available on Unix/Linux systems only.\n",
        "It creates a child process by duplicating the current process.\n",
        "Both parent and child processes continue running from the same point in the code.\n",
        "> multiprocessing Module:A high-level Python module for creating and managing separate processes.Works on all platforms (Windows, macOS, Linux).\n",
        "Provides easy-to-use classes like Process, Queue, Pool, etc.\n",
        "\n",
        "**Ques19.  What is the importance of closing a file in Python?**\n",
        "\n",
        "Ans19. Closing a file in Python is important to ensure that your program uses system resources properly and does not lose data.\n",
        "\n",
        "**Ques20. What is the difference between file.read() and file.readline() in Python0**\n",
        "\n",
        "Ans20. file.read():in this we can read the whole file in one go.\n",
        "~~~\n",
        "with open(\"file.txt\",\"r\")as f:\n",
        "   r=f.read()\n",
        "   print(r)\n",
        "~~~\n",
        "\n",
        "file.readline: in this we can read first line of our file.\n",
        "~~~\n",
        "with open(\"file.txt\",\"r\")as f:\n",
        "   r=f.readline()\n",
        "   print(r)\n",
        "~~~\n",
        "\n",
        "**Ques21. What is the logging module in Python used for**\n",
        "\n",
        "Ans21.The logging module in Python is used to record messages that describe events happening in your program. It helps you track errors, monitor performance, and understand how your code is running — without using print() statements.\n",
        "\n",
        "**Ques22. What is the os module in Python used for in file handling?**\n",
        "\n",
        "Ans22. The os module is used to interact with the operating system. In file handling, it helps with:\n",
        "\n",
        ">Checking if files or directories exist: os.path.exists()\n",
        "\n",
        ">Creating directories: os.mkdir(), os.makedirs()\n",
        "\n",
        ">Listing contents of directories: os.listdir()\n",
        "\n",
        ">Deleting files or directories: os.remove(), os.rmdir()\n",
        "\n",
        ">Renaming or moving files: os.rename()\n",
        "\n",
        ">setting the current working directory: os.getcwd(), os.chdir()\n",
        "\n",
        ">Building platform-independent file paths: os.path.join()\n",
        "\n",
        "**Ques23. What are the challenges associated with memory management in Python?**\n",
        "\n",
        "Ans23. Poor memory management can lead to various issues such as memory leaks, fragmentation, excessive paging, and crashes, which indirectly degrade system performance and stability.\n",
        "\n",
        "**Ques24.  How do you raise an exception manually in Python?**\n",
        "\n",
        "Ans24. In Python, we can raise an exception manually using the raise keyword.\n",
        "~~~\n",
        "class MyCustomError(Exception):\n",
        "    pass\n",
        "\n",
        "raise MyCustomError(\"Something custom went wrong\")\n",
        "~~~\n",
        "\n",
        "**Ques25. Why is it important to use multithreading in certain applications**\n",
        "\n",
        "Ans25.Multithreading is important in certain applications for several reasons:\n",
        "\n",
        "1. **Improved Responsiveness:** In applications with user interfaces or network operations, multithreading can prevent the application from freezing while waiting for a task to complete. One thread can handle the long-running task while another thread keeps the UI responsive.\n",
        "\n",
        "2. **Better Resource Utilization:** For I/O-bound tasks (tasks that spend a lot of time waiting for input/output operations, like reading from a file or network), multithreading allows the CPU to switch to another thread while one thread is waiting. This makes better use of available resources.\n",
        "\n",
        "3. **Simplified Design for Concurrent Tasks:** When an application needs to perform multiple tasks concurrently (like handling multiple client connections in a server), using separate threads for each task can simplify the program's structure and make it easier to manage.\n",
        "\n",
        "4. **Parallelism (in some cases):** Although Python's Global Interpreter Lock (GIL) limits true parallel execution of CPU-bound tasks in multiple threads on multi-core processors, multithreading can still provide a form of concurrency that is beneficial for I/O-bound operations. In other languages without a GIL, multithreading can achieve true parallelism for CPU-bound tasks\n",
        "\n",
        "\n",
        "\n"
      ],
      "metadata": {
        "id": "64VPbw65tMap"
      }
    },
    {
      "cell_type": "markdown",
      "source": [
        "# **PRACTICAL QUESTIONS**"
      ],
      "metadata": {
        "id": "mpS4VYnYtdzk"
      }
    },
    {
      "cell_type": "code",
      "source": [
        "# Ques1. How can you open a file for writing in Python and write a string to it?\n",
        "with open(\"file.txt\",\"w\") as f:\n",
        "  f.write(\"Hey, my name is Yuvraj\")\n",
        "  f.write(\"\\nI am in DA course\")"
      ],
      "metadata": {
        "id": "s5Bg2fvitvYR"
      },
      "execution_count": 27,
      "outputs": []
    },
    {
      "cell_type": "code",
      "source": [
        "# Ques2. Write a Python program to read the contents of a file and print each line?\n",
        "with open(\"file.txt\",\"r\") as f:\n",
        "  print(f.read())"
      ],
      "metadata": {
        "colab": {
          "base_uri": "https://localhost:8080/"
        },
        "id": "fmPnMWikt0rN",
        "outputId": "6b8d0c89-5d1b-4fe0-b8b6-ee4e642b7ac5"
      },
      "execution_count": 28,
      "outputs": [
        {
          "output_type": "stream",
          "name": "stdout",
          "text": [
            "Hey, my name is Yuvraj\n",
            "I am in DA course\n"
          ]
        }
      ]
    },
    {
      "cell_type": "code",
      "source": [
        "#Ques3. How would you handle a case where the file doesn't exist while trying to open it for reading?\n",
        "try:\n",
        "  with open(\"file_test.txt\",\"r\") as f:\n",
        "    r = f.read()\n",
        "    print(r)\n",
        "except FileNotFoundError as e:\n",
        "  print(\"error is:\",e)"
      ],
      "metadata": {
        "colab": {
          "base_uri": "https://localhost:8080/"
        },
        "id": "pBmos-ept9wk",
        "outputId": "415bf2d1-d2a8-4314-c641-59c7e6133fe5"
      },
      "execution_count": 29,
      "outputs": [
        {
          "output_type": "stream",
          "name": "stdout",
          "text": [
            "error is: [Errno 2] No such file or directory: 'file_test.txt'\n"
          ]
        }
      ]
    },
    {
      "cell_type": "code",
      "source": [
        "#Ques4. Write a Python script that reads from one file and writes its content to another file?\n",
        "with open(\"file.txt\",\"r\") as firstfile:\n",
        "  with open(\"second_file.txt\",\"w\") as secondfile: # Open in write mode to overwrite\n",
        "    for line in firstfile:\n",
        "      secondfile.write(line)\n",
        "\n",
        "with open(\"second_file.txt\",\"r\")as f:\n",
        "  print(\"Contents of second_file.txt:\")\n",
        "  print(f.read())"
      ],
      "metadata": {
        "colab": {
          "base_uri": "https://localhost:8080/"
        },
        "id": "nBrCBPeZAM_l",
        "outputId": "f6ec1c37-dcf7-4d59-fb17-f1b4f857844c"
      },
      "execution_count": 68,
      "outputs": [
        {
          "output_type": "stream",
          "name": "stdout",
          "text": [
            "Contents of second_file.txt:\n",
            "Hey, my name is Yuvraj\n",
            "I am in DA course\n",
            "my fees is 20000\n",
            "my fees is 20000\n"
          ]
        }
      ]
    },
    {
      "cell_type": "code",
      "source": [
        "#Ques6. Write a Python program that logs an error message to a log file when a division by zero exception occurs?\n",
        "\n",
        "import logging\n",
        "logging.basicConfig(filename='error.log', level=logging.ERROR)\n",
        "\n",
        "try:\n",
        "  result = 10 / 0\n",
        "except ZeroDivisionError as e:\n",
        "  logging.error(\"Division by zero error occurred: %s\", e)\n",
        "  print(\"An error occurred and has been logged.\")"
      ],
      "metadata": {
        "colab": {
          "base_uri": "https://localhost:8080/"
        },
        "id": "_ancqv4tuG_c",
        "outputId": "0f262930-8c27-451f-939a-3179304a572b"
      },
      "execution_count": 67,
      "outputs": [
        {
          "output_type": "stream",
          "name": "stderr",
          "text": [
            "ERROR:root:Division by zero error occurred: division by zero\n"
          ]
        },
        {
          "output_type": "stream",
          "name": "stdout",
          "text": [
            "An error occurred and has been logged.\n"
          ]
        }
      ]
    },
    {
      "cell_type": "code",
      "source": [
        "#Ques7. How do you log information at different levels (INFO, ERROR, WARNING) in Python using the logging module?\n",
        "import logging\n",
        "logging.basicConfig(filename=\"test_log.txt\",level=logging.INFO)\n",
        "\n",
        "logging.info(\"this is info message\")\n",
        "logging.error(\"this is error message\")\n",
        "logging.warning(\"this is last warning\")\n",
        "\n",
        "logging.shutdown()\n"
      ],
      "metadata": {
        "colab": {
          "base_uri": "https://localhost:8080/"
        },
        "id": "WsYwezrHuLId",
        "outputId": "f1dcbc12-a659-4fb8-ebf7-eccdd1b69380"
      },
      "execution_count": 32,
      "outputs": [
        {
          "output_type": "stream",
          "name": "stderr",
          "text": [
            "ERROR:root:this is error message\n",
            "WARNING:root:this is last warning\n"
          ]
        }
      ]
    },
    {
      "cell_type": "code",
      "source": [
        "#Ques8.  Write a program to handle a file opening error using exception handling?\n",
        "try:\n",
        "  with open(\"test.txt\",\"r\") as f:\n",
        "    r = f.read()\n",
        "    print(r)\n",
        "except FileNotFoundError as e:\n",
        "  print(\"error is:\",e)"
      ],
      "metadata": {
        "colab": {
          "base_uri": "https://localhost:8080/"
        },
        "id": "XAlF22XvuOgq",
        "outputId": "31b317f5-ba33-4616-c0df-68833c6241b9"
      },
      "execution_count": 33,
      "outputs": [
        {
          "output_type": "stream",
          "name": "stdout",
          "text": [
            "error is: [Errno 2] No such file or directory: 'test.txt'\n"
          ]
        }
      ]
    },
    {
      "cell_type": "code",
      "source": [
        "#Ques9. How can you read a file line by line and store its content in a list in Python?\n",
        "with open(\"file.txt\",\"r\")as f:\n",
        "  r=f.readlines()\n",
        "  print(r)"
      ],
      "metadata": {
        "colab": {
          "base_uri": "https://localhost:8080/"
        },
        "id": "4C_g9m_muSf3",
        "outputId": "05ec622d-e064-461d-e855-58d1de90981e"
      },
      "execution_count": 34,
      "outputs": [
        {
          "output_type": "stream",
          "name": "stdout",
          "text": [
            "['Hey, my name is Yuvraj\\n', 'I am in DA course']\n"
          ]
        }
      ]
    },
    {
      "cell_type": "code",
      "source": [
        "#Ques10.  How can you append data to an existing file in Python?\n",
        "with open(\"file.txt\",\"a\")as f:\n",
        "  f.write(\"\\nmy fees is 20000\")"
      ],
      "metadata": {
        "id": "VwW1aDkDuXHV"
      },
      "execution_count": 63,
      "outputs": []
    },
    {
      "cell_type": "code",
      "source": [
        "#Ques11. Write a Python program that uses a try-except block to handle an error when attempting to access a dictionary key that doesn't exist?\n",
        "try:\n",
        " data={\"name\":\"Yuvraj\",\"course\":\"DA\"}\n",
        " print(data[\"age\"])\n",
        "except KeyError as e:\n",
        "  print(\"here there is no key:\",e)"
      ],
      "metadata": {
        "colab": {
          "base_uri": "https://localhost:8080/"
        },
        "id": "B7jlsvcXubB8",
        "outputId": "4a46631a-2bb6-4974-96c2-fe7ab8946606"
      },
      "execution_count": 62,
      "outputs": [
        {
          "output_type": "stream",
          "name": "stdout",
          "text": [
            "here there is no key: 'age'\n"
          ]
        }
      ]
    },
    {
      "cell_type": "code",
      "source": [
        "#Ques12. Write a program that demonstrates using multiple except blocks to handle different types of exceptions?\n",
        "try:\n",
        "  x=int(input(\"enter a number:\"))\n",
        "  print(10/x)\n",
        "\n",
        "except ZeroDivisionError as e:\n",
        "  print(\"error is:\",e)\n",
        "except ValueError as e:\n",
        "  print(\"error is:\",e)"
      ],
      "metadata": {
        "colab": {
          "base_uri": "https://localhost:8080/"
        },
        "id": "URiL8mB7ueP-",
        "outputId": "9e5219da-ca5c-4076-b323-100b91a3cd03"
      },
      "execution_count": 37,
      "outputs": [
        {
          "output_type": "stream",
          "name": "stdout",
          "text": [
            "enter a number:\n",
            "error is: invalid literal for int() with base 10: ''\n"
          ]
        }
      ]
    },
    {
      "cell_type": "code",
      "source": [
        "#Ques13.  How would you check if a file exists before attempting to read it in Python?\n",
        "import os\n",
        "if os.path.exists(\"file.txt\"):\n",
        "  print(\"file exixts:\")\n",
        "  with open(\"file.txt\",\"r\")as f:\n",
        "    r=f.read()\n",
        "    print(r)\n",
        "else:\n",
        "  print(\"file not found\")\n"
      ],
      "metadata": {
        "colab": {
          "base_uri": "https://localhost:8080/"
        },
        "id": "HiJRJvu4uhzY",
        "outputId": "5872d940-74cc-497a-cb5a-5521b90a3e57"
      },
      "execution_count": 38,
      "outputs": [
        {
          "output_type": "stream",
          "name": "stdout",
          "text": [
            "file exixts:\n",
            "Hey, my name is Yuvraj\n",
            "I am in DA course\n",
            "my fees is 20000\n"
          ]
        }
      ]
    },
    {
      "cell_type": "code",
      "source": [
        "#Ques14.  Write a program that uses the logging module to log both informational and error messages?\n",
        "import logging\n",
        "logging.basicConfig(filename=\"error.log\",level=logging.INFO)\n",
        "\n",
        "logging.info(\"this is informational message\")\n",
        "logging.error(\"this is error message\")\n",
        "\n",
        "logging.shutdown()"
      ],
      "metadata": {
        "colab": {
          "base_uri": "https://localhost:8080/"
        },
        "id": "QKfVOqY9umcK",
        "outputId": "6e41ce00-b533-4b62-c7c5-b4532ae80e9d"
      },
      "execution_count": 39,
      "outputs": [
        {
          "output_type": "stream",
          "name": "stderr",
          "text": [
            "ERROR:root:this is error message\n"
          ]
        }
      ]
    },
    {
      "cell_type": "code",
      "source": [
        "#Ques15. Write a Python program that prints the content of a file and handles the case when the file is empty?\n",
        "with open(\"empty.txt\",\"w\")as f:\n",
        " f.write(\"\")\n",
        "\n",
        "size = os.path.getsize(\"empty.txt\")\n",
        "\n",
        "if size==0:\n",
        "  print(\"file is empty\")\n",
        "else:\n",
        "  with open(\"empty.txt\",\"r\")as f:\n",
        "    r=f.read()\n",
        "    print(r)"
      ],
      "metadata": {
        "colab": {
          "base_uri": "https://localhost:8080/"
        },
        "id": "7_uYEuBvuuTF",
        "outputId": "73d8e282-79ad-488b-9ba6-d1f5896c5aa3"
      },
      "execution_count": 40,
      "outputs": [
        {
          "output_type": "stream",
          "name": "stdout",
          "text": [
            "file is empty\n"
          ]
        }
      ]
    },
    {
      "cell_type": "code",
      "source": [],
      "metadata": {
        "id": "XvHNhZRQu1FX"
      },
      "execution_count": 40,
      "outputs": []
    },
    {
      "cell_type": "code",
      "metadata": {
        "colab": {
          "base_uri": "https://localhost:8080/"
        },
        "id": "4aa75d95",
        "outputId": "e13c87e4-fab6-4bad-e770-c8f4c1d79d77"
      },
      "source": [
        "%pip install memory-profiler"
      ],
      "execution_count": 41,
      "outputs": [
        {
          "output_type": "stream",
          "name": "stdout",
          "text": [
            "Requirement already satisfied: memory-profiler in /usr/local/lib/python3.12/dist-packages (0.61.0)\n",
            "Requirement already satisfied: psutil in /usr/local/lib/python3.12/dist-packages (from memory-profiler) (5.9.5)\n"
          ]
        }
      ]
    },
    {
      "cell_type": "code",
      "metadata": {
        "colab": {
          "base_uri": "https://localhost:8080/"
        },
        "id": "4bb0a5b6",
        "outputId": "82fd65a4-63ba-4371-b272-1823f53d4793"
      },
      "source": [
        "from memory_profiler import profile\n",
        "\n",
        "@profile\n",
        "def my_function():\n",
        "    a = [1] * 10\n",
        "    b = [2] * 20\n",
        "    return a, b\n",
        "\n",
        "my_function()"
      ],
      "execution_count": 50,
      "outputs": [
        {
          "output_type": "stream",
          "name": "stdout",
          "text": [
            "ERROR: Could not find file /tmp/ipython-input-3689903457.py\n"
          ]
        },
        {
          "output_type": "execute_result",
          "data": {
            "text/plain": [
              "([1, 1, 1, 1, 1, 1, 1, 1, 1, 1],\n",
              " [2, 2, 2, 2, 2, 2, 2, 2, 2, 2, 2, 2, 2, 2, 2, 2, 2, 2, 2, 2])"
            ]
          },
          "metadata": {},
          "execution_count": 50
        }
      ]
    },
    {
      "cell_type": "code",
      "source": [
        "#Ques17.  Write a Python program to create and write a list of numbers to a file, one number per line\n",
        "data=[1,2,3,4,5,6]\n",
        "import csv\n",
        "\n",
        "with open(\"file_csv.csv\",\"w\")as f:\n",
        "  writer=csv.writer(f)\n",
        "  for num in data:\n",
        "   writer.writerow([num])\n",
        "\n",
        "with open(\"file_csv.csv\",\"r\")as f:\n",
        "  reader=csv.reader(f)\n",
        "  for row in reader:\n",
        "    print(row)"
      ],
      "metadata": {
        "colab": {
          "base_uri": "https://localhost:8080/"
        },
        "id": "Mbxbf1ASvNgN",
        "outputId": "78f8800e-fd2c-412b-d92c-9d439148893c"
      },
      "execution_count": 51,
      "outputs": [
        {
          "output_type": "stream",
          "name": "stdout",
          "text": [
            "['1']\n",
            "['2']\n",
            "['3']\n",
            "['4']\n",
            "['5']\n",
            "['6']\n"
          ]
        }
      ]
    },
    {
      "cell_type": "code",
      "source": [
        "#Ques18. How would you implement a basic logging setup that logs to a file with rotation after 1MB?\n",
        "import logging\n",
        "from logging.handlers import RotatingFileHandler\n",
        "\n",
        "logging.basicConfig(filename=\"test_log.txt\",level=logging.INFO)\n",
        "\n",
        "logging.info(\"this is info message\")\n",
        "logging.error(\"this is error message\")\n",
        "logging.warning(\"this is last warning\")\n",
        "\n",
        "logging.shutdown()"
      ],
      "metadata": {
        "colab": {
          "base_uri": "https://localhost:8080/"
        },
        "id": "csQahSALvOdv",
        "outputId": "c6b8c18e-d768-4936-93a2-da1860e7c30d"
      },
      "execution_count": 52,
      "outputs": [
        {
          "output_type": "stream",
          "name": "stderr",
          "text": [
            "ERROR:root:this is error message\n",
            "WARNING:root:this is last warning\n"
          ]
        }
      ]
    },
    {
      "cell_type": "code",
      "source": [
        "#Ques19. Write a program that handles both IndexError and KeyError using a try-except block?\n",
        "try:\n",
        "  dic={\"name\":\"Yuvraj\",\"age\":23}\n",
        "  dic[\"course\"]\n",
        "  l1=[1,2,3,4]\n",
        "  l1[5]\n",
        "except (KeyError,IndexError) as e:\n",
        "  print(\"error is:\",e)\n"
      ],
      "metadata": {
        "colab": {
          "base_uri": "https://localhost:8080/"
        },
        "id": "bGuu_JxMvROQ",
        "outputId": "981e1022-56f3-482f-ac7a-a171a0f56235"
      },
      "execution_count": 61,
      "outputs": [
        {
          "output_type": "stream",
          "name": "stdout",
          "text": [
            "error is: 'course'\n"
          ]
        }
      ]
    },
    {
      "cell_type": "code",
      "source": [
        "#Ques20. How would you open a file and read its contents using a context manager in Python?\n",
        "with open(\"file.txt\",\"r\")as f:\n",
        "  r=f.read()\n",
        "  print(r)"
      ],
      "metadata": {
        "colab": {
          "base_uri": "https://localhost:8080/"
        },
        "id": "HL4a0lwTvUOQ",
        "outputId": "0ed61266-bf1b-41dd-d9cf-4fef6b349c44"
      },
      "execution_count": 54,
      "outputs": [
        {
          "output_type": "stream",
          "name": "stdout",
          "text": [
            "Hey, my name is Yuvraj\n",
            "I am in DA course\n",
            "my fees is 20000\n"
          ]
        }
      ]
    },
    {
      "cell_type": "code",
      "source": [
        "#Ques21. Write a Python program that reads a file and prints the number of occurrences of a specific word?\n",
        "\n",
        "with open(\"file.txt\",\"r\")as f:\n",
        "  r=f.read()\n",
        "  print(r.count(\"Yuvraj\"))"
      ],
      "metadata": {
        "colab": {
          "base_uri": "https://localhost:8080/"
        },
        "id": "me0xYAw8vXPw",
        "outputId": "c92e91ae-0e5e-4004-902c-5b04a01ddbdc"
      },
      "execution_count": 59,
      "outputs": [
        {
          "output_type": "stream",
          "name": "stdout",
          "text": [
            "1\n"
          ]
        }
      ]
    },
    {
      "cell_type": "code",
      "source": [
        "#Ques22. How can you check if a file is empty before attempting to read its contents?\n",
        "import os\n",
        "size = os.path.getsize(\"file.txt\")\n",
        "\n",
        "if size==0:\n",
        "  print(\"file is empty\")\n",
        "else:\n",
        "  with open(\"file.txt\",\"r\")as f:\n",
        "    r=f.read()\n",
        "    print(\"this file is not empty:\\n\",r)\n"
      ],
      "metadata": {
        "colab": {
          "base_uri": "https://localhost:8080/"
        },
        "id": "e1ZgsOm0vd-V",
        "outputId": "989b1b62-9371-4b06-e302-ed24713b9f13"
      },
      "execution_count": 56,
      "outputs": [
        {
          "output_type": "stream",
          "name": "stdout",
          "text": [
            "this file is not empty:\n",
            " Hey, my name is Yuvraj\n",
            "I am in DA course\n",
            "my fees is 20000\n"
          ]
        }
      ]
    },
    {
      "cell_type": "code",
      "source": [
        "#Ques23. Write a Python program that writes to a log file when an error occurs during file handling.\n",
        "try:\n",
        "    with open(\"data.txt\", \"r\") as file:\n",
        "        c = file.read()\n",
        "        print(c)\n",
        "\n",
        "except Exception as e:\n",
        "    with open(\"error_log.txt\", \"a\") as log_file:\n",
        "        log_file.write(f\"Error: {str(e)}\\n\")\n",
        "\n",
        "# output:\n",
        "# Error: [Errno 2] No such file or directory: 'data.txt'"
      ],
      "metadata": {
        "id": "30qHWsCGv2T8"
      },
      "execution_count": 57,
      "outputs": []
    },
    {
      "cell_type": "code",
      "source": [],
      "metadata": {
        "id": "j2uuZERVv5jH"
      },
      "execution_count": 57,
      "outputs": []
    }
  ]
}